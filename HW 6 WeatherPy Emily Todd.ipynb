{
 "cells": [
  {
   "cell_type": "markdown",
   "metadata": {},
   "source": [
    "#### Observable Trends\n",
    "1. First\n",
    "2. Second\n",
    "3. Third"
   ]
  },
  {
   "cell_type": "markdown",
   "metadata": {},
   "source": [
    "#### WeatherPy\n",
    "\n",
    "In this example, you'll be creating a Python script to visualize the weather of 500+ cities across the world of varying distance from the equator. To accomplish this, you'll be utilizing a simple Python library, the OpenWeatherMap API, and a little common sense to create a representative model of weather across world cities.\n",
    "\n",
    "##### Your objective is to build a series of scatter plots to showcase the following relationships:\n",
    "* Temperature (F) vs. Latitude\n",
    "* Humidity (%) vs. Latitude\n",
    "* Cloudiness (%) vs. Latitude\n",
    "* Wind Speed (mph) vs. Latitude\n",
    "\n",
    "\n",
    "##### Your final notebook must:\n",
    "* Randomly select at least 500 unique (non-repeat) cities based on latitude and longitude.\n",
    "* Perform a weather check on each of the cities using a series of successive API calls.\n",
    "* Include a print log of each city as it's being processed with the city number and city name.\n",
    "* Save both a CSV of all data retrieved and png images for each scatter plot.\n",
    "\n",
    "\n",
    "##### As final considerations:\n",
    "* You must complete your analysis using a Jupyter notebook.\n",
    "* You must use the Matplotlib or Pandas plotting libraries.\n",
    "* You must include a written description of three observable trends based on the data.\n",
    "* You must use proper labeling of your plots, including aspects like: Plot Titles (with date of analysis) and Axes Labels.\n",
    "* See Example Solution for a reference on expected format."
   ]
  },
  {
   "cell_type": "code",
   "execution_count": 35,
   "metadata": {},
   "outputs": [
    {
     "name": "stdout",
     "output_type": "stream",
     "text": [
      "Requirement already satisfied: citipy in c:\\users\\emily\\anaconda3\\lib\\site-packages (0.0.5)\n",
      "Requirement already satisfied: kdtree>=0.12 in c:\\users\\emily\\anaconda3\\lib\\site-packages (from citipy) (0.16)\n"
     ]
    },
    {
     "name": "stderr",
     "output_type": "stream",
     "text": [
      "twisted 18.7.0 requires PyHamcrest>=1.9.0, which is not installed.\n",
      "You are using pip version 10.0.1, however version 19.0.1 is available.\n",
      "You should consider upgrading via the 'python -m pip install --upgrade pip' command.\n"
     ]
    }
   ],
   "source": [
    "# dependencies\n",
    "import matplotlib.pyplot as plt\n",
    "import requests\n",
    "import json\n",
    "import pandas as pd\n",
    "from config import weather_api_key\n",
    "!pip install citipy\n",
    "from citipy import citipy\n",
    "import random"
   ]
  },
  {
   "cell_type": "code",
   "execution_count": 36,
   "metadata": {},
   "outputs": [],
   "source": [
    "# API details\n",
    "url = \"http://api.openweathermap.org/data/2.5/weather?\"\n",
    "units = \"metric\""
   ]
  },
  {
   "cell_type": "code",
   "execution_count": 37,
   "metadata": {},
   "outputs": [
    {
     "name": "stdout",
     "output_type": "stream",
     "text": [
      "[72, 151, -166, 82, 106, -19, -89, -72, 131, 145]\n",
      "[18, -126, 138, -117, -79, 41, -129, 15, -145, -93]\n"
     ]
    }
   ],
   "source": [
    "# generate random latitude and longitude list for sample cities\n",
    "lat_coords = random.sample(list(range(-180, 180)), 10)\n",
    "print(lat_coords)\n",
    "lon_coords = random.sample(list(range(-180, 180)), 10)\n",
    "print(lon_coords)"
   ]
  },
  {
   "cell_type": "code",
   "execution_count": 38,
   "metadata": {},
   "outputs": [
    {
     "name": "stdout",
     "output_type": "stream",
     "text": [
      "['tromso', 'tuktoyaktuk', 'bluff', 'norman wells', 'qaanaaq', 'angoche', 'rikitea', 'bredasdorp', 'barrow', 'qaanaaq']\n"
     ]
    }
   ],
   "source": [
    "# create list of cities from random lat and lon coordinates\n",
    "cities = []\n",
    "\n",
    "for x in range(len(lat_coords)):\n",
    "    city = citipy.nearest_city(lat_coords[x],lon_coords[x])\n",
    "    cities.append(city.city_name)\n",
    "    \n",
    "print(cities)"
   ]
  },
  {
   "cell_type": "code",
   "execution_count": 39,
   "metadata": {},
   "outputs": [],
   "source": [
    "# set up lists to hold reponse info\n",
    "city_name = []\n",
    "latitude = []\n",
    "temp = []\n",
    "humidity = []\n",
    "clouds = []\n",
    "wind = []\n",
    "\n",
    "# build partial query URL\n",
    "query_url = f\"{url}appid={weather_api_key}&units={units}&q=\""
   ]
  },
  {
   "cell_type": "code",
   "execution_count": 40,
   "metadata": {},
   "outputs": [
    {
     "name": "stdout",
     "output_type": "stream",
     "text": [
      "http://api.openweathermap.org/data/2.5/weather?appid=6d1373c888f1c7bf746eef73f01556df&units=metric&q=tromso\n",
      "City Name: tromso, Record number 1\n",
      "http://api.openweathermap.org/data/2.5/weather?appid=6d1373c888f1c7bf746eef73f01556df&units=metric&q=tuktoyaktuk\n",
      "City Name: tuktoyaktuk, Record number 2\n",
      "http://api.openweathermap.org/data/2.5/weather?appid=6d1373c888f1c7bf746eef73f01556df&units=metric&q=bluff\n",
      "City Name: bluff, Record number 3\n",
      "http://api.openweathermap.org/data/2.5/weather?appid=6d1373c888f1c7bf746eef73f01556df&units=metric&q=norman wells\n",
      "City Name: norman wells, Record number 4\n",
      "http://api.openweathermap.org/data/2.5/weather?appid=6d1373c888f1c7bf746eef73f01556df&units=metric&q=qaanaaq\n",
      "City Name: qaanaaq, Record number 5\n",
      "http://api.openweathermap.org/data/2.5/weather?appid=6d1373c888f1c7bf746eef73f01556df&units=metric&q=angoche\n",
      "City Name: angoche, Record number 6\n",
      "http://api.openweathermap.org/data/2.5/weather?appid=6d1373c888f1c7bf746eef73f01556df&units=metric&q=rikitea\n",
      "City Name: rikitea, Record number 7\n",
      "http://api.openweathermap.org/data/2.5/weather?appid=6d1373c888f1c7bf746eef73f01556df&units=metric&q=bredasdorp\n",
      "City Name: bredasdorp, Record number 8\n",
      "http://api.openweathermap.org/data/2.5/weather?appid=6d1373c888f1c7bf746eef73f01556df&units=metric&q=barrow\n",
      "City Name: barrow, Record number 9\n",
      "http://api.openweathermap.org/data/2.5/weather?appid=6d1373c888f1c7bf746eef73f01556df&units=metric&q=qaanaaq\n",
      "City Name: qaanaaq, Record number 10\n",
      "['Tromso', 'Tuktoyaktuk', 'Bluff', 'Norman Wells', 'Qaanaaq', 'Angoche', 'Rikitea', 'Bredasdorp', 'Barrow', 'Qaanaaq']\n",
      "[69.65, 69.44, -23.58, 65.28, 77.48, -16.23, -23.12, -34.53, -38.31, 77.48]\n",
      "[-8.29, -31, 29.57, -34, -29.18, 26.87, 27.1, 20, 10.7, -29.18]\n",
      "[48, 67, 52, 66, 87, 100, 100, 82, 92, 87]\n",
      "[0, 5, 80, 20, 0, 76, 32, 88, 8, 0]\n",
      "[18.5, 5.1, 7.96, 2.1, 2.51, 2.36, 3.66, 4.1, 1.31, 2.51]\n"
     ]
    }
   ],
   "source": [
    "# loop through the list of cities and perform a request for data on each\n",
    "record = 1\n",
    "for city in cities:\n",
    "    print(query_url + city)\n",
    "    print(f\"City Name: {city}, Record number {record}\")\n",
    "    record += 1\n",
    "    try:\n",
    "        response = requests.get(query_url + city).json()\n",
    "        city_name.append(response['name'])\n",
    "        latitude.append(response['coord']['lat'])\n",
    "        temp.append(response['main']['temp'])\n",
    "        humidity.append(response['main']['humidity'])\n",
    "        clouds.append(response['clouds']['all'])\n",
    "        wind.append(response['wind']['speed'])\n",
    "    except (KeyError):\n",
    "        pass\n",
    "\n",
    "print(city_name)\n",
    "print(latitude)\n",
    "print(temp)\n",
    "print(humidity)\n",
    "print(clouds)\n",
    "print(wind)"
   ]
  },
  {
   "cell_type": "code",
   "execution_count": 41,
   "metadata": {},
   "outputs": [
    {
     "data": {
      "text/html": [
       "<div>\n",
       "<style scoped>\n",
       "    .dataframe tbody tr th:only-of-type {\n",
       "        vertical-align: middle;\n",
       "    }\n",
       "\n",
       "    .dataframe tbody tr th {\n",
       "        vertical-align: top;\n",
       "    }\n",
       "\n",
       "    .dataframe thead th {\n",
       "        text-align: right;\n",
       "    }\n",
       "</style>\n",
       "<table border=\"1\" class=\"dataframe\">\n",
       "  <thead>\n",
       "    <tr style=\"text-align: right;\">\n",
       "      <th></th>\n",
       "      <th>City</th>\n",
       "      <th>Latitude</th>\n",
       "      <th>Temperature</th>\n",
       "      <th>Humidity</th>\n",
       "      <th>Cloudiness</th>\n",
       "      <th>Wind Speed</th>\n",
       "    </tr>\n",
       "  </thead>\n",
       "  <tbody>\n",
       "    <tr>\n",
       "      <th>0</th>\n",
       "      <td>Tromso</td>\n",
       "      <td>69.65</td>\n",
       "      <td>-8.29</td>\n",
       "      <td>48</td>\n",
       "      <td>0</td>\n",
       "      <td>18.50</td>\n",
       "    </tr>\n",
       "    <tr>\n",
       "      <th>1</th>\n",
       "      <td>Tuktoyaktuk</td>\n",
       "      <td>69.44</td>\n",
       "      <td>-31.00</td>\n",
       "      <td>67</td>\n",
       "      <td>5</td>\n",
       "      <td>5.10</td>\n",
       "    </tr>\n",
       "    <tr>\n",
       "      <th>2</th>\n",
       "      <td>Bluff</td>\n",
       "      <td>-23.58</td>\n",
       "      <td>29.57</td>\n",
       "      <td>52</td>\n",
       "      <td>80</td>\n",
       "      <td>7.96</td>\n",
       "    </tr>\n",
       "    <tr>\n",
       "      <th>3</th>\n",
       "      <td>Norman Wells</td>\n",
       "      <td>65.28</td>\n",
       "      <td>-34.00</td>\n",
       "      <td>66</td>\n",
       "      <td>20</td>\n",
       "      <td>2.10</td>\n",
       "    </tr>\n",
       "    <tr>\n",
       "      <th>4</th>\n",
       "      <td>Qaanaaq</td>\n",
       "      <td>77.48</td>\n",
       "      <td>-29.18</td>\n",
       "      <td>87</td>\n",
       "      <td>0</td>\n",
       "      <td>2.51</td>\n",
       "    </tr>\n",
       "  </tbody>\n",
       "</table>\n",
       "</div>"
      ],
      "text/plain": [
       "           City  Latitude  Temperature  Humidity  Cloudiness  Wind Speed\n",
       "0        Tromso     69.65        -8.29        48           0       18.50\n",
       "1   Tuktoyaktuk     69.44       -31.00        67           5        5.10\n",
       "2         Bluff    -23.58        29.57        52          80        7.96\n",
       "3  Norman Wells     65.28       -34.00        66          20        2.10\n",
       "4       Qaanaaq     77.48       -29.18        87           0        2.51"
      ]
     },
     "execution_count": 41,
     "metadata": {},
     "output_type": "execute_result"
    }
   ],
   "source": [
    "# create a data frame to hold weather data\n",
    "weather_dict = {\n",
    "    \"City\": city_name,\n",
    "    \"Latitude\": latitude,\n",
    "    \"Temperature\": temp,\n",
    "    \"Humidity\": humidity,\n",
    "    \"Cloudiness\": clouds,\n",
    "    \"Wind Speed\": wind\n",
    "}\n",
    "\n",
    "weather_data = pd.DataFrame(weather_dict)\n",
    "\n",
    "weather_data.to_csv(\"WeatherData.csv\", index=False)\n",
    "\n",
    "weather_data.head()"
   ]
  },
  {
   "cell_type": "code",
   "execution_count": 42,
   "metadata": {},
   "outputs": [
    {
     "data": {
      "image/png": "[encoded data removed]",
      "text/plain": [
       "<Figure size 432x288 with 1 Axes>"
      ]
     },
     "metadata": {
      "needs_background": "light"
     },
     "output_type": "display_data"
    }
   ],
   "source": [
    "# build a scatter plot for Temperature (F) vs. Latitude\n",
    "plt.scatter(weather_data[\"Latitude\"], weather_data[\"Temperature\"], marker=\"o\")\n",
    "\n",
    "plt.title(\"Temperature vs. Latitude, 02/02/19\")\n",
    "plt.ylabel(\"Temperature (F)\")\n",
    "plt.xlabel(\"Latitude\")\n",
    "plt.grid(True)\n",
    "\n",
    "# Save the figure\n",
    "plt.savefig(\"TempVsLat.png\")\n",
    "\n",
    "# Show plot\n",
    "plt.show()"
   ]
  },
  {
   "cell_type": "code",
   "execution_count": 43,
   "metadata": {},
   "outputs": [
    {
     "data": {
      "image/png": "[encoded data removed]",
      "text/plain": [
       "<Figure size 432x288 with 1 Axes>"
      ]
     },
     "metadata": {
      "needs_background": "light"
     },
     "output_type": "display_data"
    }
   ],
   "source": [
    "# build a scatter plot for Humidity (%) vs. Latitude\n",
    "plt.scatter(weather_data[\"Latitude\"], weather_data[\"Humidity\"], marker=\"o\")\n",
    "\n",
    "plt.title(\"Humidity (%) vs. Latitude, 02/02/19\")\n",
    "plt.ylabel(\"Humidity (%)\")\n",
    "plt.xlabel(\"Latitude\")\n",
    "plt.grid(True)\n",
    "\n",
    "# Save the figure\n",
    "plt.savefig(\"HumidityVsLat.png\")\n",
    "\n",
    "# Show plot\n",
    "plt.show()"
   ]
  },
  {
   "cell_type": "code",
   "execution_count": 44,
   "metadata": {},
   "outputs": [
    {
     "data": {
      "image/png": "[encoded data removed]",
      "text/plain": [
       "<Figure size 432x288 with 1 Axes>"
      ]
     },
     "metadata": {
      "needs_background": "light"
     },
     "output_type": "display_data"
    }
   ],
   "source": [
    "# build a scatter plot for Cloudiness (%) vs. Latitude\n",
    "plt.scatter(weather_data[\"Latitude\"], weather_data[\"Cloudiness\"], marker=\"o\")\n",
    "\n",
    "plt.title(\"Cloudiness (%) vs. Latitude, 02/02/19\")\n",
    "plt.ylabel(\"Cloudiness (%)\")\n",
    "plt.xlabel(\"Latitude\")\n",
    "plt.grid(True)\n",
    "\n",
    "# Save the figure\n",
    "plt.savefig(\"CloudsVsLat.png\")\n",
    "\n",
    "# Show plot\n",
    "plt.show()"
   ]
  },
  {
   "cell_type": "code",
   "execution_count": 45,
   "metadata": {},
   "outputs": [
    {
     "data": {
      "image/png": "[encoded data removed]",
      "text/plain": [
       "<Figure size 432x288 with 1 Axes>"
      ]
     },
     "metadata": {
      "needs_background": "light"
     },
     "output_type": "display_data"
    }
   ],
   "source": [
    "# build a scatter plot for Wind Speed (mph) vs. Latitude\n",
    "plt.scatter(weather_data[\"Latitude\"], weather_data[\"Wind Speed\"], marker=\"o\")\n",
    "\n",
    "plt.title(\"Wind Speed (mph) vs. Latitude, 02/02/19\")\n",
    "plt.ylabel(\"Wind Speed (mph)\")\n",
    "plt.xlabel(\"Latitude\")\n",
    "plt.grid(True)\n",
    "\n",
    "# Save the figure\n",
    "plt.savefig(\"WindVsLat.png\")\n",
    "\n",
    "# Show plot\n",
    "plt.show()"
   ]
  },
  {
   "cell_type": "code",
   "execution_count": null,
   "metadata": {},
   "outputs": [],
   "source": []
  }
 ],
 "metadata": {
  "kernelspec": {
   "display_name": "Python 3",
   "language": "python",
   "name": "python3"
  },
  "language_info": {
   "codemirror_mode": {
    "name": "ipython",
    "version": 3
   },
   "file_extension": ".py",
   "mimetype": "text/x-python",
   "name": "python",
   "nbconvert_exporter": "python",
   "pygments_lexer": "ipython3",
   "version": "3.7.0"
  }
 },
 "nbformat": 4,
 "nbformat_minor": 2
}
