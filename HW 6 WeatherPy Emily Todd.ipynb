{
 "cells": [
  {
   "cell_type": "markdown",
   "metadata": {},
   "source": [
    "#### Observable Trends\n",
    "1. First\n",
    "2. Second\n",
    "3. Third"
   ]
  },
  {
   "cell_type": "markdown",
   "metadata": {},
   "source": [
    "#### WeatherPy\n",
    "\n",
    "In this example, you'll be creating a Python script to visualize the weather of 500+ cities across the world of varying distance from the equator. To accomplish this, you'll be utilizing a simple Python library, the OpenWeatherMap API, and a little common sense to create a representative model of weather across world cities.\n",
    "\n",
    "##### Your objective is to build a series of scatter plots to showcase the following relationships:\n",
    "* Temperature (F) vs. Latitude\n",
    "* Humidity (%) vs. Latitude\n",
    "* Cloudiness (%) vs. Latitude\n",
    "* Wind Speed (mph) vs. Latitude\n",
    "\n",
    "\n",
    "##### Your final notebook must:\n",
    "* Randomly select at least 500 unique (non-repeat) cities based on latitude and longitude.\n",
    "* Perform a weather check on each of the cities using a series of successive API calls.\n",
    "* Include a print log of each city as it's being processed with the city number and city name.\n",
    "* Save both a CSV of all data retrieved and png images for each scatter plot.\n",
    "\n",
    "\n",
    "##### As final considerations:\n",
    "* You must complete your analysis using a Jupyter notebook.\n",
    "* You must use the Matplotlib or Pandas plotting libraries.\n",
    "* You must include a written description of three observable trends based on the data.\n",
    "* You must use proper labeling of your plots, including aspects like: Plot Titles (with date of analysis) and Axes Labels.\n",
    "* See Example Solution for a reference on expected format."
   ]
  },
  {
   "cell_type": "code",
   "execution_count": null,
   "metadata": {},
   "outputs": [],
   "source": [
    "# dependencies\n",
    "import matplotlib.pyplot as plt\n",
    "import requests\n",
    "import json\n",
    "import pandas as pd\n",
    "from config import weather_api_key\n",
    "!pip install citipy\n",
    "from citipy import citipy\n",
    "import random"
   ]
  },
  {
   "cell_type": "code",
   "execution_count": null,
   "metadata": {},
   "outputs": [],
   "source": [
    "# API details\n",
    "url = \"http://api.openweathermap.org/data/2.5/weather?\"\n",
    "units = \"metric\""
   ]
  },
  {
   "cell_type": "code",
   "execution_count": null,
   "metadata": {},
   "outputs": [],
   "source": [
    "# generate random latitude and longitude list for sample cities\n",
    "lat_coords = random.sample(list(range(-90, 90)), 10)\n",
    "print(lat_coords)\n",
    "lon_coords = random.sample(list(range(-180, 180)), 10)\n",
    "print(lon_coords)"
   ]
  },
  {
   "cell_type": "code",
   "execution_count": null,
   "metadata": {},
   "outputs": [],
   "source": [
    "# create list of cities from random lat and lon coordinates\n",
    "cities = []\n",
    "\n",
    "for x in range(len(lat_coords)):\n",
    "    city = citipy.nearest_city(lat_coords[x],lon_coords[x])\n",
    "    cities.append(city.city_name)\n",
    "    \n",
    "print(cities)"
   ]
  },
  {
   "cell_type": "code",
   "execution_count": null,
   "metadata": {},
   "outputs": [],
   "source": [
    "# set up lists to hold reponse info\n",
    "city_name = []\n",
    "latitude = []\n",
    "temp = []\n",
    "humidity = []\n",
    "clouds = []\n",
    "wind = []\n",
    "\n",
    "# build partial query URL\n",
    "query_url = f\"{url}appid={weather_api_key}&units={units}&q=\""
   ]
  },
  {
   "cell_type": "code",
   "execution_count": null,
   "metadata": {},
   "outputs": [],
   "source": [
    "# loop through the list of cities and perform a request for data on each\n",
    "record = 1\n",
    "for city in cities:\n",
    "    print(query_url + city)\n",
    "    print(f\"City Name: {city}, Record number {record}\")\n",
    "    record += 1\n",
    "    try:\n",
    "        response = requests.get(query_url + city).json()\n",
    "        city_name.append(response['name'])\n",
    "        latitude.append(response['coord']['lat'])\n",
    "        temp.append(response['main']['temp'])\n",
    "        humidity.append(response['main']['humidity'])\n",
    "        clouds.append(response['clouds']['all'])\n",
    "        wind.append(response['wind']['speed'])\n",
    "    except (KeyError):\n",
    "        pass\n",
    "\n",
    "print(city_name)\n",
    "print(latitude)\n",
    "print(temp)\n",
    "print(humidity)\n",
    "print(clouds)\n",
    "print(wind)"
   ]
  },
  {
   "cell_type": "code",
   "execution_count": null,
   "metadata": {},
   "outputs": [],
   "source": [
    "# create a data frame to hold weather data\n",
    "weather_dict = {\n",
    "    \"City\": city_name,\n",
    "    \"Latitude\": latitude,\n",
    "    \"Temperature\": temp,\n",
    "    \"Humidity\": humidity,\n",
    "    \"Cloudiness\": clouds,\n",
    "    \"Wind Speed\": wind\n",
    "}\n",
    "\n",
    "weather_data = pd.DataFrame(weather_dict)\n",
    "\n",
    "weather_data.to_csv(\"WeatherData.csv\", index=False)\n",
    "\n",
    "weather_data.head()"
   ]
  },
  {
   "cell_type": "code",
   "execution_count": null,
   "metadata": {},
   "outputs": [],
   "source": [
    "# build a scatter plot for Temperature (F) vs. Latitude\n",
    "plt.scatter(weather_data[\"Latitude\"], weather_data[\"Temperature\"], marker=\"o\")\n",
    "\n",
    "plt.title(\"Temperature vs. Latitude, 02/02/19\")\n",
    "plt.ylabel(\"Temperature (F)\")\n",
    "plt.xlabel(\"Latitude\")\n",
    "plt.grid(True)\n",
    "\n",
    "# Save the figure\n",
    "plt.savefig(\"TempVsLat.png\")\n",
    "\n",
    "# Show plot\n",
    "plt.show()"
   ]
  },
  {
   "cell_type": "code",
   "execution_count": null,
   "metadata": {},
   "outputs": [],
   "source": [
    "# build a scatter plot for Humidity (%) vs. Latitude\n",
    "plt.scatter(weather_data[\"Latitude\"], weather_data[\"Humidity\"], marker=\"o\")\n",
    "\n",
    "plt.title(\"Humidity (%) vs. Latitude, 02/02/19\")\n",
    "plt.ylabel(\"Humidity (%)\")\n",
    "plt.xlabel(\"Latitude\")\n",
    "plt.grid(True)\n",
    "\n",
    "# Save the figure\n",
    "plt.savefig(\"HumidityVsLat.png\")\n",
    "\n",
    "# Show plot\n",
    "plt.show()"
   ]
  },
  {
   "cell_type": "code",
   "execution_count": null,
   "metadata": {},
   "outputs": [],
   "source": [
    "# build a scatter plot for Cloudiness (%) vs. Latitude\n",
    "plt.scatter(weather_data[\"Latitude\"], weather_data[\"Cloudiness\"], marker=\"o\")\n",
    "\n",
    "plt.title(\"Cloudiness (%) vs. Latitude, 02/02/19\")\n",
    "plt.ylabel(\"Cloudiness (%)\")\n",
    "plt.xlabel(\"Latitude\")\n",
    "plt.grid(True)\n",
    "\n",
    "# Save the figure\n",
    "plt.savefig(\"CloudsVsLat.png\")\n",
    "\n",
    "# Show plot\n",
    "plt.show()"
   ]
  },
  {
   "cell_type": "code",
   "execution_count": null,
   "metadata": {},
   "outputs": [],
   "source": [
    "# build a scatter plot for Wind Speed (mph) vs. Latitude\n",
    "plt.scatter(weather_data[\"Latitude\"], weather_data[\"Wind Speed\"], marker=\"o\")\n",
    "\n",
    "plt.title(\"Wind Speed (mph) vs. Latitude, 02/02/19\")\n",
    "plt.ylabel(\"Wind Speed (mph)\")\n",
    "plt.xlabel(\"Latitude\")\n",
    "plt.grid(True)\n",
    "\n",
    "# Save the figure\n",
    "plt.savefig(\"WindVsLat.png\")\n",
    "\n",
    "# Show plot\n",
    "plt.show()"
   ]
  },
  {
   "cell_type": "code",
   "execution_count": null,
   "metadata": {},
   "outputs": [],
   "source": []
  }
 ],
 "metadata": {
  "kernelspec": {
   "display_name": "Python 3",
   "language": "python",
   "name": "python3"
  },
  "language_info": {
   "codemirror_mode": {
    "name": "ipython",
    "version": 3
   },
   "file_extension": ".py",
   "mimetype": "text/x-python",
   "name": "python",
   "nbconvert_exporter": "python",
   "pygments_lexer": "ipython3",
   "version": "3.7.0"
  }
 },
 "nbformat": 4,
 "nbformat_minor": 2
}
